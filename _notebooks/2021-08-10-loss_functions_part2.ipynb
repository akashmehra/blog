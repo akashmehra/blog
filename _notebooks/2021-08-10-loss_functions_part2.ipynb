{
 "cells": [
  {
   "cell_type": "markdown",
   "id": "97a72d72",
   "metadata": {},
   "source": [
    "# Loss Functions Part 2\n",
    "\n",
    "> \"In this part of the multi-part series on the loss functions we'll be taking a. look at MSE, MAE, Hinge Loss, Triplet Loss and Huber Loss. We'll also look at the code for these Loss functions in PyTorch and some examples of how to use them\"\n",
    "\n",
    "- toc: true\n",
    "- branch: fastbook/lessons\n",
    "- badges: true\n",
    "- comments: true\n",
    "- image: images/triplet_loss.png\n",
    "- categories: [loss_functions]\n",
    "- hide: false\n",
    "- author: Akash Mehra"
   ]
  },
  {
   "cell_type": "markdown",
   "id": "cc8a1370",
   "metadata": {},
   "source": [
    "## Mean Squared Error\n",
    "\n",
    "Mean Squared Error (MSE) measures the average of the squares of the errors for an estimator. The MSE of an estimator $\\hat{\\theta}$​ wrt an unknown parameter $\\theta$​ is defined as $MSE(\\hat{\\theta})  =E[(\\hat{\\theta} - \\theta)^2]$​​​. It can also be written as the sum of  *Variance* and the squared *Bias* of the estimator. In case of an *unbiased* estimator the *MSE* and *variance* are equivalent. Below is a quick way to see how the MSE and the Variance and Bias are related to each other."
   ]
  },
  {
   "cell_type": "markdown",
   "id": "76ff2f51",
   "metadata": {},
   "source": [
    "$$\n",
    "\\begin{eqnarray}\n",
    "E[X] &=& \\mu \\\\\\\\\\\\\n",
    "\\end{eqnarray}\n",
    "$$\n",
    "\n",
    "\n",
    "$$\n",
    "\\begin{eqnarray}\n",
    "Var(X) &=& E[(X - \\mu)^2] \\\\\\\\\\\\\n",
    "&=& E[X^2] + \\mu^2 - 2\\mu E[X] \\\\\\\\\\\\\n",
    "&=& E[X^2] - E[X]^2\n",
    "\\end{eqnarray}\n",
    "$$\n",
    "\n",
    "\n",
    "using the following result:\n",
    "\n",
    "$$\n",
    "\\begin{eqnarray}\n",
    "Var(X-Y) &=& Var(X) + Var(Y) - 2Cov(X,Y) \\\\\\\\\\\\\n",
    "Var(\\mu) &=& 0 \\\\\\\\\\\\\n",
    "Cov(X,\\mu) &=& E[X-E[X]]E[\\mu-E[\\mu]] = 0 \\\\\\\\\\\\\n",
    "Var(X-\\mu) &=& Var(X)\n",
    "\\end{eqnarray}\n",
    "$$\n",
    "\n",
    "\n",
    "We arrive at:\n",
    "\n",
    "$$\n",
    "\\begin{eqnarray}\n",
    "MSE(\\hat{\\theta}) &=& E[(\\hat{\\theta} - \\theta)^2] \\\\\\\\\\\\\n",
    "&=& Var(\\hat{\\theta} - \\theta) + E[\\hat{\\theta} - \\theta]^2 \\\\\\\\\\\\\n",
    "&=& Var[\\hat{\\theta}] + Bias^2[\\hat{\\theta}]\n",
    "\\end{eqnarray}\n",
    "$$"
   ]
  },
  {
   "cell_type": "markdown",
   "id": "f56f75b4",
   "metadata": {},
   "source": [
    "\n",
    "We can see from above that as *Variance,* *MSE* alwso heavily weights the outliers. It's squaring each term which weights large error terms more heavily than smaller ones. An alternative in that becomes *Mean Absolute Error* which is the topic of discussion of next section."
   ]
  },
  {
   "cell_type": "code",
   "execution_count": null,
   "id": "89758e22",
   "metadata": {},
   "outputs": [],
   "source": []
  }
 ],
 "metadata": {
  "kernelspec": {
   "display_name": "Python 3",
   "language": "python",
   "name": "python3"
  },
  "language_info": {
   "codemirror_mode": {
    "name": "ipython",
    "version": 3
   },
   "file_extension": ".py",
   "mimetype": "text/x-python",
   "name": "python",
   "nbconvert_exporter": "python",
   "pygments_lexer": "ipython3",
   "version": "3.8.10"
  }
 },
 "nbformat": 4,
 "nbformat_minor": 5
}
